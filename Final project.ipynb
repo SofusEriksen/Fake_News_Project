{
 "cells": [
  {
   "cell_type": "code",
   "execution_count": 2,
   "metadata": {},
   "outputs": [
    {
     "name": "stderr",
     "output_type": "stream",
     "text": [
      "C:\\Users\\sofus\\AppData\\Roaming\\Python\\Python310\\site-packages\\requests\\__init__.py:102: RequestsDependencyWarning: urllib3 (1.26.9) or chardet (5.0.0)/charset_normalizer (2.0.12) doesn't match a supported version!\n",
      "  warnings.warn(\"urllib3 ({}) or chardet ({})/charset_normalizer ({}) doesn't match a supported \"\n"
     ]
    }
   ],
   "source": [
    "import re\n",
    "import pandas as pd\n",
    "import requests\n",
    "import nltk\n",
    "import numpy as np\n",
    "from nltk.tokenize import word_tokenize\n",
    "from nltk.probability import FreqDist\n",
    "from nltk.corpus import stopwords\n",
    "from nltk.stem import *\n",
    "import matplotlib.pyplot as plt\n",
    "from io import StringIO\n",
    "import matplotlib.pyplot as plt\n",
    "\n",
    "import csv\n",
    "csv.field_size_limit(131072000)\n",
    "from ast import literal_eval\n",
    "from sklearn.model_selection import train_test_split\n",
    "from sklearn.feature_extraction.text import TfidfVectorizer\n",
    "from sklearn.linear_model import LogisticRegression\n",
    "from sklearn.metrics import f1_score\n",
    "from gensim.models import Word2Vec\n",
    "from sklearn.metrics import confusion_matrix, ConfusionMatrixDisplay\n",
    "import pickle "
   ]
  },
  {
   "cell_type": "markdown",
   "metadata": {},
   "source": [
    "### Hent data"
   ]
  },
  {
   "cell_type": "code",
   "execution_count": 3,
   "metadata": {},
   "outputs": [],
   "source": [
    "\n",
    "# URL of the CSV file\n",
    "url = 'https://raw.githubusercontent.com/several27/FakeNewsCorpus/master/news_sample.csv'\n",
    "\n",
    "# Fetching the content from the URL\n",
    "response = requests.get(url)\n",
    "\n",
    "# Checking if the request was successful (status code 200)\n",
    "if response.status_code == 200:\n",
    "    # Reading CSV data using pandas\n",
    "    csv_data = StringIO(response.text)\n",
    "    df = pd.read_csv(csv_data)\n",
    "\n",
    "    # Displaying the first few rows of the DataFrame\n",
    "    #print(df.head())\n",
    "else:\n",
    "    print(f\"Failed to fetch data. Status code: {response.status_code}\")\n"
   ]
  },
  {
   "cell_type": "markdown",
   "metadata": {},
   "source": [
    "# Part 1"
   ]
  },
  {
   "cell_type": "markdown",
   "metadata": {},
   "source": [
    "# Task 1"
   ]
  },
  {
   "cell_type": "code",
   "execution_count": 4,
   "metadata": {},
   "outputs": [],
   "source": [
    "def clean_text(text):\n",
    "    text = text.lower()\n",
    "    # remove multiple white spaces/tabs or newlines\n",
    "    mul_uni_whitespaces = re.compile(r'(\\s)\\s+')\n",
    "    text = mul_uni_whitespaces.sub(r'\\1',text)\n",
    "    # extract dates with form\n",
    "    # YY-MM-DD HH-MM:SS\n",
    "    date = re.compile(r\"\"\"\n",
    "        # YY\n",
    "        ([0-1][0-9]{3}|20[0-1][0-9]|202[0-4])\n",
    "        -\n",
    "        # MM 01-12, DD: 01-31\n",
    "        (1[0-2]|0[1-9])\n",
    "        -\n",
    "        ([1-3]0|[0-2][1-9]|31)\n",
    "        # whitespace\n",
    "        \\ {1}\n",
    "        # HH-MM:SS format\n",
    "        ([0-1][0-9]|2[0-4]):([0-5][0-9]|60):([0-5][0-9].\\d*)\n",
    "        \"\"\", re.X)\n",
    "    text = date.sub(r'<DATE>',text)\n",
    "    # extract date with alphabetic name, year\n",
    "    # example: Jan DD, YYYY\n",
    "    date_2 = re.compile(r\"\"\"\n",
    "        ([A-Z]|[a-z])([a-z]+\\ )([1-3]0|[0-2][1-9]|31)\n",
    "        ,\\ {1}\n",
    "        # YY 0000-2023\n",
    "        ([0-1][0-9]{3}|20[0-1][0-9]|202[0-4])\n",
    "        \"\"\", re.X)\n",
    "    text = date_2.sub(r'<DATE>',text)\n",
    "    \n",
    "    number = re.compile(r\"\"\"\n",
    "        (\\d+[,\\.]\\d+)|(\\d+)  \n",
    "        (?![\\w])             # next character has to be a non-word letter\n",
    "        \"\"\", re.X)\n",
    "    text = number.sub(r'<NUM>',text)\n",
    "    \n",
    "    email = re.compile(r\"\"\"\n",
    "        [\\w-]+@[\\.\\w-]+              # if we have @ we assume it's an email \n",
    "        \"\"\", re.X)\n",
    "    text = email.sub(r'<EMAIL>',text)\n",
    "    \n",
    "    # website with prefix http and/or www.\n",
    "    website_http = re.compile(r\"\"\"\n",
    "        (https?://www\\.|              # http(s)://www. or www.\n",
    "        https?://|www\\.)              # or http(s)://\n",
    "        ([^ \\t\\n\\r\\f\\v,]+)             # capture rest of website    \n",
    "        \"\"\", re.X)\n",
    "    text = website_http.sub(r'<URL>',text)\n",
    "    # website with prefix http and/or www.\n",
    "    website = re.compile(r\"\"\"        # no https or www\n",
    "        [\\w-]+\\.[\\.\\w-]+             # assume website if we have a dot .\n",
    "        (/[^ \\t\\n\\r\\f\\v,]*)?         # /<address> optional     \n",
    "        \"\"\", re.X)\n",
    "    text = website.sub(r'<URL>',text)\n",
    "    return text\n"
   ]
  },
  {
   "cell_type": "code",
   "execution_count": 5,
   "metadata": {},
   "outputs": [
    {
     "name": "stdout",
     "output_type": "stream",
     "text": [
      "Vocabulary size before removing stop words: 14961\n",
      "Vocabulary size before after stop words: 14815\n",
      "Total Reduction rate is: 0.00975870596885235\n",
      "\n",
      "Vocabulary size after stemming: 9674\n",
      "Total Reduction rate after stemming: 0.35338546888576966\n"
     ]
    }
   ],
   "source": [
    "concat_content = \" \".join(df['content'].tolist())\n",
    "cleaned_content = clean_text(concat_content)\n",
    "tokens = nltk.word_tokenize(cleaned_content)\n",
    "tokens = [token for token in tokens if token.isalpha()]\n",
    "\n",
    "# stop word removal\n",
    "vocab_pre_stop = len(np.unique(tokens))\n",
    "stop_words = stopwords.words('english')\n",
    "tokens_no_stop = [token for token in tokens if not token in stop_words]\n",
    "vocab_post_stop = len(np.unique(tokens_no_stop))\n",
    "\n",
    "# stemming\n",
    "stemmer = PorterStemmer()\n",
    "tokens_stem = [stemmer.stem(token) for token in tokens_no_stop]\n",
    "vocab_post_stem = len(np.unique(tokens_stem))\n",
    "\n",
    "print(f\"Vocabulary size before removing stop words: {vocab_pre_stop}\")\n",
    "print(f\"Vocabulary size before after stop words: {vocab_post_stop}\")\n",
    "print(f\"Total Reduction rate is: {(vocab_pre_stop-vocab_post_stop)/vocab_pre_stop}\")\n",
    "print(f\"\\nVocabulary size after stemming: {vocab_post_stem}\")\n",
    "print(f\"Total Reduction rate after stemming: {(vocab_pre_stop-vocab_post_stem)/vocab_pre_stop}\")"
   ]
  },
  {
   "cell_type": "code",
   "execution_count": null,
   "metadata": {},
   "outputs": [],
   "source": []
  },
  {
   "cell_type": "markdown",
   "metadata": {},
   "source": [
    "# Task 2"
   ]
  },
  {
   "cell_type": "code",
   "execution_count": 5,
   "metadata": {},
   "outputs": [
    {
     "name": "stderr",
     "output_type": "stream",
     "text": [
      "C:\\Users\\sofus\\AppData\\Local\\Temp\\ipykernel_1320\\4130554562.py:6: DtypeWarning: Columns (0) have mixed types. Specify dtype option on import or set low_memory=False.\n",
      "  for chunk in pd.read_csv('995,000_rows.csv', chunksize=chunksize):\n",
      "C:\\Users\\sofus\\AppData\\Local\\Temp\\ipykernel_1320\\4130554562.py:6: DtypeWarning: Columns (0) have mixed types. Specify dtype option on import or set low_memory=False.\n",
      "  for chunk in pd.read_csv('995,000_rows.csv', chunksize=chunksize):\n",
      "C:\\Users\\sofus\\AppData\\Local\\Temp\\ipykernel_1320\\4130554562.py:6: DtypeWarning: Columns (0,1) have mixed types. Specify dtype option on import or set low_memory=False.\n",
      "  for chunk in pd.read_csv('995,000_rows.csv', chunksize=chunksize):\n",
      "C:\\Users\\sofus\\AppData\\Local\\Temp\\ipykernel_1320\\4130554562.py:6: DtypeWarning: Columns (0) have mixed types. Specify dtype option on import or set low_memory=False.\n",
      "  for chunk in pd.read_csv('995,000_rows.csv', chunksize=chunksize):\n",
      "C:\\Users\\sofus\\AppData\\Local\\Temp\\ipykernel_1320\\4130554562.py:6: DtypeWarning: Columns (0,1) have mixed types. Specify dtype option on import or set low_memory=False.\n",
      "  for chunk in pd.read_csv('995,000_rows.csv', chunksize=chunksize):\n",
      "C:\\Users\\sofus\\AppData\\Local\\Temp\\ipykernel_1320\\4130554562.py:6: DtypeWarning: Columns (0) have mixed types. Specify dtype option on import or set low_memory=False.\n",
      "  for chunk in pd.read_csv('995,000_rows.csv', chunksize=chunksize):\n",
      "C:\\Users\\sofus\\AppData\\Local\\Temp\\ipykernel_1320\\4130554562.py:6: DtypeWarning: Columns (0) have mixed types. Specify dtype option on import or set low_memory=False.\n",
      "  for chunk in pd.read_csv('995,000_rows.csv', chunksize=chunksize):\n",
      "C:\\Users\\sofus\\AppData\\Local\\Temp\\ipykernel_1320\\4130554562.py:6: DtypeWarning: Columns (0) have mixed types. Specify dtype option on import or set low_memory=False.\n",
      "  for chunk in pd.read_csv('995,000_rows.csv', chunksize=chunksize):\n",
      "C:\\Users\\sofus\\AppData\\Local\\Temp\\ipykernel_1320\\4130554562.py:6: DtypeWarning: Columns (0,1) have mixed types. Specify dtype option on import or set low_memory=False.\n",
      "  for chunk in pd.read_csv('995,000_rows.csv', chunksize=chunksize):\n"
     ]
    }
   ],
   "source": [
    "# compute vocab frequency before stop words / stemming\n",
    "\n",
    "chunksize = 50000\n",
    "word_dict = {}\n",
    "\n",
    "for chunk in pd.read_csv('995,000_rows.csv', chunksize=chunksize):\n",
    "    chunk = chunk.dropna(subset = ['type'])\n",
    "    chunk = chunk.dropna(subset = ['content'])\n",
    "    for i in range(len(chunk['content'])):\n",
    "        content = chunk['content'].iloc[i]\n",
    "        clean_data = clean_text(content)\n",
    "        tokens = nltk.word_tokenize(clean_data)\n",
    "        tokens = [token for token in tokens if token.isalpha()]\n",
    "        for k in range(len(tokens)):\n",
    "            word = tokens[k]\n",
    "            if word not in word_dict:\n",
    "                word_dict[word] = 1\n",
    "            else:\n",
    "                count = word_dict[word]\n",
    "                word_dict.update({word:count+1})\n"
   ]
  },
  {
   "cell_type": "code",
   "execution_count": 6,
   "metadata": {},
   "outputs": [
    {
     "name": "stderr",
     "output_type": "stream",
     "text": [
      "C:\\Users\\sofus\\AppData\\Local\\Temp\\ipykernel_1320\\444595364.py:8: DtypeWarning: Columns (0) have mixed types. Specify dtype option on import or set low_memory=False.\n",
      "  for chunk in pd.read_csv('995,000_rows.csv', chunksize=chunksize):\n",
      "C:\\Users\\sofus\\AppData\\Local\\Temp\\ipykernel_1320\\444595364.py:8: DtypeWarning: Columns (0) have mixed types. Specify dtype option on import or set low_memory=False.\n",
      "  for chunk in pd.read_csv('995,000_rows.csv', chunksize=chunksize):\n",
      "C:\\Users\\sofus\\AppData\\Local\\Temp\\ipykernel_1320\\444595364.py:8: DtypeWarning: Columns (0,1) have mixed types. Specify dtype option on import or set low_memory=False.\n",
      "  for chunk in pd.read_csv('995,000_rows.csv', chunksize=chunksize):\n",
      "C:\\Users\\sofus\\AppData\\Local\\Temp\\ipykernel_1320\\444595364.py:8: DtypeWarning: Columns (0) have mixed types. Specify dtype option on import or set low_memory=False.\n",
      "  for chunk in pd.read_csv('995,000_rows.csv', chunksize=chunksize):\n",
      "C:\\Users\\sofus\\AppData\\Local\\Temp\\ipykernel_1320\\444595364.py:8: DtypeWarning: Columns (0,1) have mixed types. Specify dtype option on import or set low_memory=False.\n",
      "  for chunk in pd.read_csv('995,000_rows.csv', chunksize=chunksize):\n",
      "C:\\Users\\sofus\\AppData\\Local\\Temp\\ipykernel_1320\\444595364.py:8: DtypeWarning: Columns (0) have mixed types. Specify dtype option on import or set low_memory=False.\n",
      "  for chunk in pd.read_csv('995,000_rows.csv', chunksize=chunksize):\n",
      "C:\\Users\\sofus\\AppData\\Local\\Temp\\ipykernel_1320\\444595364.py:8: DtypeWarning: Columns (0) have mixed types. Specify dtype option on import or set low_memory=False.\n",
      "  for chunk in pd.read_csv('995,000_rows.csv', chunksize=chunksize):\n",
      "C:\\Users\\sofus\\AppData\\Local\\Temp\\ipykernel_1320\\444595364.py:8: DtypeWarning: Columns (0,1) have mixed types. Specify dtype option on import or set low_memory=False.\n",
      "  for chunk in pd.read_csv('995,000_rows.csv', chunksize=chunksize):\n"
     ]
    }
   ],
   "source": [
    "# vocab freq after stop word / stemming\n",
    "\n",
    "chunksize = 100000\n",
    "import matplotlib.pyplot as plt\n",
    "\n",
    "word_dict_post = {}\n",
    "\n",
    "for chunk in pd.read_csv('995,000_rows.csv', chunksize=chunksize):\n",
    "    chunk = chunk.dropna(subset = ['type'])\n",
    "    chunk = chunk.dropna(subset = ['content'])\n",
    "    for i in range(len(chunk['content'])):\n",
    "        content = chunk['content'].iloc[i]\n",
    "        clean_data = clean_text(content)\n",
    "        tokens = nltk.word_tokenize(clean_data)\n",
    "        tokens = [token for token in tokens if token.isalpha()]\n",
    "\n",
    "        stop_words = stopwords.words('english')\n",
    "        tokens_no_stop = [token for token in tokens if not token in stop_words]\n",
    "\n",
    "        # stemming\n",
    "        stemmer = PorterStemmer()\n",
    "        tokens_stem = [stemmer.stem(token) for token in tokens_no_stop]\n",
    "\n",
    "        for k in range(len(tokens_stem)):\n",
    "            word = tokens_stem[k]\n",
    "            if word not in word_dict_post:\n",
    "                word_dict_post[word] = 1\n",
    "            else:\n",
    "                count = word_dict_post[word]\n",
    "                word_dict_post.update({word:count+1})"
   ]
  },
  {
   "cell_type": "code",
   "execution_count": 7,
   "metadata": {},
   "outputs": [
    {
     "data": {
      "image/png": "[encoded data removed]",
      "text/plain": [
       "<Figure size 1000x500 with 1 Axes>"
      ]
     },
     "metadata": {},
     "output_type": "display_data"
    }
   ],
   "source": [
    "# Analysis of word frequency\n",
    "freq_100 = sorted(word_dict.items(), key=lambda x: x[1], reverse=True)[0:100]\n",
    "freq_10000 = sorted(word_dict.items(), key=lambda x: x[1], reverse=True)[0:10000]\n",
    "freq_10000_words = [word[0] for word in freq_10000]\n",
    "word_sum = sum(word_dict.values())\n",
    "frequency_10000 = [word[1]/word_sum for word in freq_10000]\n",
    "\n",
    "plt.figure(figsize=(10,5))\n",
    "## Create bars\n",
    "plt.plot(frequency_10000,'.')\n",
    "plt.ylabel(\"Frequency\")\n",
    "plt.title(\"Barplot of 10000 most frequent words pre cleaning\")\n",
    "plt.xlabel(\"Words\")\n",
    "plt.show()"
   ]
  },
  {
   "cell_type": "code",
   "execution_count": 8,
   "metadata": {},
   "outputs": [
    {
     "data": {
      "image/png": "[encoded data removed]",
      "text/plain": [
       "<Figure size 1000x500 with 1 Axes>"
      ]
     },
     "metadata": {},
     "output_type": "display_data"
    }
   ],
   "source": [
    "# Analysis of word frequency\n",
    "freq_100_post = sorted(word_dict_post.items(), key=lambda x: x[1], reverse=True)[0:100]\n",
    "freq_10000_post = sorted(word_dict_post.items(), key=lambda x: x[1], reverse=True)[0:10000]\n",
    "freq_10000_words_post = [word[0] for word in freq_10000_post]\n",
    "word_sum_post = sum(word_dict_post.values())\n",
    "frequency_10000_post = [word[1]/word_sum for word in freq_10000_post]\n",
    "\n",
    "plt.figure(figsize=(10,5))\n",
    "## Create bars\n",
    "plt.plot(frequency_10000_post,'.',color='red')\n",
    "plt.ylabel(\"Frequency\")\n",
    "plt.title(\"Barplot of 10000 most frequent words post cleaning\")\n",
    "plt.xlabel(\"Words\")\n",
    "plt.show()"
   ]
  },
  {
   "cell_type": "code",
   "execution_count": 9,
   "metadata": {},
   "outputs": [
    {
     "data": {
      "image/png": "[encoded data removed]",
      "text/plain": [
       "<Figure size 640x480 with 1 Axes>"
      ]
     },
     "metadata": {},
     "output_type": "display_data"
    }
   ],
   "source": [
    "plt.plot(frequency_10000_post[0:100],'.',color='red',label='post cleaning')\n",
    "plt.plot(frequency_10000[0:100],'.',color='blue',label='pre cleaning')\n",
    "plt.title('Frequency of the 100 most frequent words pre and post cleaning')\n",
    "plt.xlabel('word')\n",
    "plt.ylabel('frequency')\n",
    "plt.legend()\n",
    "plt.show()"
   ]
  },
  {
   "cell_type": "code",
   "execution_count": 29,
   "metadata": {},
   "outputs": [
    {
     "data": {
      "text/html": [
       "<div>\n",
       "<style scoped>\n",
       "    .dataframe tbody tr th:only-of-type {\n",
       "        vertical-align: middle;\n",
       "    }\n",
       "\n",
       "    .dataframe tbody tr th {\n",
       "        vertical-align: top;\n",
       "    }\n",
       "\n",
       "    .dataframe thead th {\n",
       "        text-align: right;\n",
       "    }\n",
       "</style>\n",
       "<table border=\"1\" class=\"dataframe\">\n",
       "  <thead>\n",
       "    <tr style=\"text-align: right;\">\n",
       "      <th></th>\n",
       "      <th>Word Count Range</th>\n",
       "      <th>Count</th>\n",
       "    </tr>\n",
       "  </thead>\n",
       "  <tbody>\n",
       "    <tr>\n",
       "      <th>0</th>\n",
       "      <td>0-250</td>\n",
       "      <td>81</td>\n",
       "    </tr>\n",
       "    <tr>\n",
       "      <th>1</th>\n",
       "      <td>251-500</td>\n",
       "      <td>51</td>\n",
       "    </tr>\n",
       "    <tr>\n",
       "      <th>2</th>\n",
       "      <td>501-750</td>\n",
       "      <td>50</td>\n",
       "    </tr>\n",
       "    <tr>\n",
       "      <th>3</th>\n",
       "      <td>751-1000</td>\n",
       "      <td>15</td>\n",
       "    </tr>\n",
       "    <tr>\n",
       "      <th>4</th>\n",
       "      <td>1001-1250</td>\n",
       "      <td>15</td>\n",
       "    </tr>\n",
       "    <tr>\n",
       "      <th>5</th>\n",
       "      <td>1251-1500</td>\n",
       "      <td>13</td>\n",
       "    </tr>\n",
       "    <tr>\n",
       "      <th>6</th>\n",
       "      <td>1501-1750</td>\n",
       "      <td>8</td>\n",
       "    </tr>\n",
       "    <tr>\n",
       "      <th>7</th>\n",
       "      <td>1751-2000</td>\n",
       "      <td>4</td>\n",
       "    </tr>\n",
       "    <tr>\n",
       "      <th>8</th>\n",
       "      <td>2001-2250</td>\n",
       "      <td>4</td>\n",
       "    </tr>\n",
       "  </tbody>\n",
       "</table>\n",
       "</div>"
      ],
      "text/plain": [
       "  Word Count Range  Count\n",
       "0            0-250     81\n",
       "1          251-500     51\n",
       "2          501-750     50\n",
       "3         751-1000     15\n",
       "4        1001-1250     15\n",
       "5        1251-1500     13\n",
       "6        1501-1750      8\n",
       "7        1751-2000      4\n",
       "8        2001-2250      4"
      ]
     },
     "execution_count": 29,
     "metadata": {},
     "output_type": "execute_result"
    }
   ],
   "source": [
    "import pandas as pd\n",
    "\n",
    "# Assuming 'clean' is a Pandas Series containing cleaned article texts\n",
    "\n",
    "# Calculate word counts for each article\n",
    "article_lengths = clean.apply(lambda text: len(text.split()))\n",
    "\n",
    "# Define the word count ranges\n",
    "ranges = [(0, 250), (251, 500), (501, 750), (751, 1000), (1001, 1250), (1251, 1500), (1501, 1750), (1751, 2000), (2001, 2250)]\n",
    "\n",
    "# Initialize dictionaries to store counts for each range\n",
    "counts = {f\"{low}-{high}\": 0 for low, high in ranges}\n",
    "\n",
    "# Count articles in each range\n",
    "for low, high in ranges:\n",
    "    counts[f\"{low}-{high}\"] = ((low <= article_lengths) & (article_lengths <= high)).sum()\n",
    "\n",
    "# Create DataFrame from counts\n",
    "df_table = pd.DataFrame(counts.items(), columns=['Word Count Range', 'Count'])\n",
    "\n",
    "df_table"
   ]
  },
  {
   "cell_type": "markdown",
   "metadata": {},
   "source": [
    "# Task 3"
   ]
  },
  {
   "cell_type": "code",
   "execution_count": 10,
   "metadata": {},
   "outputs": [
    {
     "name": "stderr",
     "output_type": "stream",
     "text": [
      "C:\\Users\\sofus\\AppData\\Local\\Temp\\ipykernel_1320\\521810856.py:21: DtypeWarning: Columns (0) have mixed types. Specify dtype option on import or set low_memory=False.\n",
      "  for chunk in pd.read_csv('995,000_rows.csv', chunksize=chunksize):\n"
     ]
    },
    {
     "name": "stdout",
     "output_type": "stream",
     "text": [
      "Counter: 1\n",
      "Counter: 2\n"
     ]
    },
    {
     "name": "stderr",
     "output_type": "stream",
     "text": [
      "C:\\Users\\sofus\\AppData\\Local\\Temp\\ipykernel_1320\\521810856.py:21: DtypeWarning: Columns (0) have mixed types. Specify dtype option on import or set low_memory=False.\n",
      "  for chunk in pd.read_csv('995,000_rows.csv', chunksize=chunksize):\n"
     ]
    },
    {
     "name": "stdout",
     "output_type": "stream",
     "text": [
      "Counter: 3\n",
      "Counter: 4\n",
      "Counter: 5\n",
      "Counter: 6\n",
      "Counter: 7\n"
     ]
    },
    {
     "name": "stderr",
     "output_type": "stream",
     "text": [
      "C:\\Users\\sofus\\AppData\\Local\\Temp\\ipykernel_1320\\521810856.py:21: DtypeWarning: Columns (0,1) have mixed types. Specify dtype option on import or set low_memory=False.\n",
      "  for chunk in pd.read_csv('995,000_rows.csv', chunksize=chunksize):\n"
     ]
    },
    {
     "name": "stdout",
     "output_type": "stream",
     "text": [
      "Counter: 8\n"
     ]
    },
    {
     "name": "stderr",
     "output_type": "stream",
     "text": [
      "C:\\Users\\sofus\\AppData\\Local\\Temp\\ipykernel_1320\\521810856.py:21: DtypeWarning: Columns (0) have mixed types. Specify dtype option on import or set low_memory=False.\n",
      "  for chunk in pd.read_csv('995,000_rows.csv', chunksize=chunksize):\n"
     ]
    },
    {
     "name": "stdout",
     "output_type": "stream",
     "text": [
      "Counter: 9\n",
      "Counter: 10\n",
      "Counter: 11\n"
     ]
    },
    {
     "name": "stderr",
     "output_type": "stream",
     "text": [
      "C:\\Users\\sofus\\AppData\\Local\\Temp\\ipykernel_1320\\521810856.py:21: DtypeWarning: Columns (0,1) have mixed types. Specify dtype option on import or set low_memory=False.\n",
      "  for chunk in pd.read_csv('995,000_rows.csv', chunksize=chunksize):\n"
     ]
    },
    {
     "name": "stdout",
     "output_type": "stream",
     "text": [
      "Counter: 12\n"
     ]
    },
    {
     "name": "stderr",
     "output_type": "stream",
     "text": [
      "C:\\Users\\sofus\\AppData\\Local\\Temp\\ipykernel_1320\\521810856.py:21: DtypeWarning: Columns (0) have mixed types. Specify dtype option on import or set low_memory=False.\n",
      "  for chunk in pd.read_csv('995,000_rows.csv', chunksize=chunksize):\n"
     ]
    },
    {
     "name": "stdout",
     "output_type": "stream",
     "text": [
      "Counter: 13\n"
     ]
    },
    {
     "name": "stderr",
     "output_type": "stream",
     "text": [
      "C:\\Users\\sofus\\AppData\\Local\\Temp\\ipykernel_1320\\521810856.py:21: DtypeWarning: Columns (0) have mixed types. Specify dtype option on import or set low_memory=False.\n",
      "  for chunk in pd.read_csv('995,000_rows.csv', chunksize=chunksize):\n"
     ]
    },
    {
     "name": "stdout",
     "output_type": "stream",
     "text": [
      "Counter: 14\n",
      "Counter: 15\n",
      "Counter: 16\n"
     ]
    },
    {
     "name": "stderr",
     "output_type": "stream",
     "text": [
      "C:\\Users\\sofus\\AppData\\Local\\Temp\\ipykernel_1320\\521810856.py:21: DtypeWarning: Columns (0) have mixed types. Specify dtype option on import or set low_memory=False.\n",
      "  for chunk in pd.read_csv('995,000_rows.csv', chunksize=chunksize):\n"
     ]
    },
    {
     "name": "stdout",
     "output_type": "stream",
     "text": [
      "Counter: 17\n",
      "Counter: 18\n"
     ]
    },
    {
     "name": "stderr",
     "output_type": "stream",
     "text": [
      "C:\\Users\\sofus\\AppData\\Local\\Temp\\ipykernel_1320\\521810856.py:21: DtypeWarning: Columns (0,1) have mixed types. Specify dtype option on import or set low_memory=False.\n",
      "  for chunk in pd.read_csv('995,000_rows.csv', chunksize=chunksize):\n"
     ]
    },
    {
     "name": "stdout",
     "output_type": "stream",
     "text": [
      "Counter: 19\n",
      "Counter: 20\n"
     ]
    }
   ],
   "source": [
    "def tokenize_content(content, stop_words, stemmer):  \n",
    "    cleaned_content = clean_text(content)\n",
    "    tokens = nltk.word_tokenize(cleaned_content)\n",
    "    # tokenize all alphabetic words\n",
    "    tokens = [token for token in tokens if token.isalpha()]\n",
    "    \n",
    "    # remove stop words by filtering\n",
    "    tokens_no_stop = [token for token in tokens if not token in stop_words]\n",
    "    # stem words using Porterstemmer\n",
    "    tokens_stem = [stemmer.stem(token) for token in tokens_no_stop]\n",
    "\n",
    "    return tokens_stem\n",
    "\n",
    "content_token = {'tokenized': []}\n",
    "token_df = pd.DataFrame(content_token)\n",
    "\n",
    "chunksize = 50000\n",
    "counter = 0\n",
    "stop_words = stopwords.words('english')\n",
    "stemmer = PorterStemmer()\n",
    "for chunk in pd.read_csv('995,000_rows.csv', chunksize=chunksize):\n",
    "    counter += 1\n",
    "    print('Counter:',counter)\n",
    "    if counter == 6:\n",
    "        token_df.to_csv('tokenized_content_1-5.csv', index=False)\n",
    "        content_token = {'tokenized': []}\n",
    "        token_df = pd.DataFrame(content_token)\n",
    "    if counter == 11:\n",
    "        token_df.to_csv('tokenized_content_6-10.csv', index=False)\n",
    "        content_token = {'tokenized': []}\n",
    "        token_df = pd.DataFrame(content_token)\n",
    "    if counter == 16:\n",
    "        token_df.to_csv('tokenized_content_11-15.csv', index=False)\n",
    "        content_token = {'tokenized': []}\n",
    "        token_df = pd.DataFrame(content_token)\n",
    "    chunk = chunk.dropna(subset = ['type'])\n",
    "    chunk = chunk.dropna(subset = ['content'])\n",
    "    for i in range(len(chunk['content'])):\n",
    "        content = chunk['content'].iloc[i]\n",
    "        content_token = tokenize_content(content, stop_words, stemmer)\n",
    "        token_df.loc[len(token_df.index)] = [content_token]\n",
    "token_df.to_csv('tokenized_content_16-end.csv', index=False)\n",
    "\n",
    "df_part_1 = pd.read_csv('tokenized_content_1-5.csv')\n",
    "df_part_2 = pd.read_csv('tokenized_content_6-10.csv')\n",
    "df_part_3 = pd.read_csv('tokenized_content_11-15.csv')\n",
    "df_part_4 = pd.read_csv('tokenized_content_16-end.csv')\n",
    "combined_df = pd.concat([df_part_1, df_part_2, df_part_3, df_part_4], ignore_index=True)\n",
    "combined_df.to_csv('rows_preprocessed.csv', index=False)"
   ]
  },
  {
   "cell_type": "code",
   "execution_count": null,
   "metadata": {},
   "outputs": [],
   "source": []
  },
  {
   "cell_type": "markdown",
   "metadata": {},
   "source": [
    "# Task 4"
   ]
  },
  {
   "cell_type": "code",
   "execution_count": 11,
   "metadata": {},
   "outputs": [],
   "source": [
    "# create csv files for training, validation and test data\n",
    "pp_df = pd.read_csv('rows_preprocessed.csv')\n",
    "big_df = pd.read_csv('995,000_rows.csv',usecols=['type','content','domain'])\n",
    "big_df = big_df.dropna(subset = ['type'])\n",
    "big_df = big_df.dropna(subset = ['content'])\n",
    "big_df = big_df.reset_index(drop=True)\n",
    "\n",
    "join_df = pd.concat([big_df,pp_df],axis=1)\n",
    "drop_indices = join_df[(join_df['type'] == '2018-02-10 13:43:39.521661') |\n",
    "                       (join_df['type'] == 'unknown')].index\n",
    "join_df = join_df.drop(drop_indices).reset_index(drop=True)\n",
    "\n",
    "# split data \n",
    "train_data, test = train_test_split(np.arange(len(join_df)), test_size=0.1, random_state=1)\n",
    "train, val = train_test_split(np.arange(len(train_data)), test_size=0.2, random_state=1)\n",
    "\n",
    "# create labels\n",
    "def create_labels(types):\n",
    "    labels_arr = np.empty(len(types))\n",
    "    for i, type in enumerate(types):\n",
    "        label = 0\n",
    "        if type in ['political', 'reliable', 'clickbait']:\n",
    "            label = 1\n",
    "        labels_arr[i] = label\n",
    "    return labels_arr\n",
    "y = create_labels(join_df['type'])\n",
    "\n",
    "# save training, validation and test data to files\n",
    "join_df['tokenized'].iloc[train].to_csv('token_train_x.csv', index=False)\n",
    "join_df['tokenized'].iloc[val].to_csv('token_val_x.csv', index=False)\n",
    "join_df['tokenized'].iloc[test].to_csv('token_test_x.csv', index=False)\n",
    "np.save('token_y.npy',y) \n"
   ]
  },
  {
   "cell_type": "code",
   "execution_count": 12,
   "metadata": {},
   "outputs": [],
   "source": [
    "# avoid loading whole corpus into ram\n",
    "# by using an iterator\n",
    "class tokenized_rows_as_string:\n",
    "    # iterator for tokenized content as string\n",
    "    # for sklearn TF-IDF model\n",
    "    def __init__(self, filename):\n",
    "        self.filename = filename\n",
    "        \n",
    "    def __iter__(self):\n",
    "        with open(self.filename, encoding='utf8') as csvfile:\n",
    "            reader = csv.reader(csvfile)\n",
    "            header = next(reader)\n",
    "            for tokenized_content in reader:\n",
    "                string = ''.join(tokenized_content).strip('[]')\n",
    "                yield string\n",
    "\n",
    "class tokenized_rows_as_array:\n",
    "    # iterator for tokenized content as array\n",
    "    # for gensim word2vec model\n",
    "    def __init__(self, filename):\n",
    "        self.filename = filename\n",
    "        \n",
    "    def __iter__(self):\n",
    "        with open(self.filename, encoding='utf8') as csvfile:\n",
    "            reader = csv.reader(csvfile)\n",
    "            header = next(reader)\n",
    "            for tokenized_content in reader:\n",
    "                yield literal_eval(tokenized_content[0])\n",
    "# load y data\n",
    "y = np.load('token_y.npy')"
   ]
  },
  {
   "cell_type": "markdown",
   "metadata": {},
   "source": [
    "# Part 2: Simple model"
   ]
  },
  {
   "cell_type": "markdown",
   "metadata": {},
   "source": [
    "# Task 1 + 2"
   ]
  },
  {
   "cell_type": "code",
   "execution_count": 13,
   "metadata": {},
   "outputs": [
    {
     "name": "stdout",
     "output_type": "stream",
     "text": [
      "train score: 0.6599870045216438\n",
      "val score: 0.6573060604559787\n",
      "test score: 0.6548577722868073\n",
      "train score: 0.6469822892937669\n",
      "val score: 0.6450248320186971\n",
      "test score: 0.64528625408821\n"
     ]
    }
   ],
   "source": [
    "# creating domain ID meta-data feature\n",
    "domain_dict = {}\n",
    "id = 0\n",
    "for i, ele in enumerate(join_df['domain']):\n",
    "    domain_exists = ele in domain_dict\n",
    "    if not domain_exists:\n",
    "        domain_dict[ele] = id\n",
    "        id += 1\n",
    "\n",
    "# creating length feature     \n",
    "simple_features = np.zeros((len(join_df),2))\n",
    "for i, ele in enumerate(join_df['tokenized']):\n",
    "    simple_features[i,0] = len(ele)\n",
    "    domains = join_df['domain'].iloc[i]\n",
    "    simple_features[i,1] = domain_dict[domains]\n",
    "\n",
    "\n",
    "# training the model without meta-data feature\n",
    "logreg_nometa = LogisticRegression(random_state=0,max_iter=200)\n",
    "logreg_nometa.fit(simple_features[train,0].reshape(-1, 1), y[train])\n",
    "\n",
    "train_preds = logreg_nometa.predict(simple_features[train,0].reshape(-1, 1))\n",
    "val_preds = logreg_nometa.predict(simple_features[val,0].reshape(-1, 1))\n",
    "test_preds = logreg_nometa.predict(simple_features[test,0].reshape(-1, 1))\n",
    "                                   \n",
    "score_train = f1_score(y[train], train_preds)\n",
    "score_val = f1_score(y[val], val_preds)\n",
    "score_test = f1_score(y[test], test_preds)\n",
    "print(f\"train score: {score_train}\")\n",
    "print(f\"val score: {score_val}\")\n",
    "print(f\"test score: {score_test}\")\n",
    "\n",
    "# training the model with meta-data feature\n",
    "logreg_meta = LogisticRegression(random_state=0,max_iter=200).fit(simple_features[train], y[train])\n",
    "train_preds = logreg_meta.predict(simple_features[train])\n",
    "val_preds = logreg_meta.predict(simple_features[val])\n",
    "test_preds = logreg_meta.predict(simple_features[test])\n",
    "                                   \n",
    "score_train = f1_score(y[train], train_preds)\n",
    "score_val = f1_score(y[val], val_preds)\n",
    "score_test = f1_score(y[test], test_preds)\n",
    "print(f\"train score: {score_train}\")\n",
    "print(f\"val score: {score_val}\")\n",
    "print(f\"test score: {score_test}\")"
   ]
  },
  {
   "cell_type": "markdown",
   "metadata": {},
   "source": [
    "# Task 3"
   ]
  },
  {
   "cell_type": "code",
   "execution_count": 14,
   "metadata": {},
   "outputs": [
    {
     "name": "stdout",
     "output_type": "stream",
     "text": [
      "train score: 0.6470645278480152\n",
      "val score: 0.6454315000551085\n",
      "test score: 0.643844247490234\n"
     ]
    }
   ],
   "source": [
    "# adding the scraped data to the training data\n",
    "scraped_df = pd.read_csv('scraped_content.csv')\n",
    "stop_words = stopwords.words('english')\n",
    "stemmer = PorterStemmer()\n",
    "extra_data = pd.read_csv('scraped_content.csv')\n",
    "# removing malformed rows\n",
    "extra_data = extra_data.dropna(subset = ['content'])\n",
    "# tokenizing the content\n",
    "extra_token = {'tokenized': []}\n",
    "extra_token_df = pd.DataFrame(extra_token)\n",
    "for content in extra_data['content']:\n",
    "    content_token = tokenize_content(content, stop_words, stemmer)\n",
    "    extra_token_df.loc[len(extra_token_df.index)] = [content_token]\n",
    "\n",
    "extra_y = np.ones(len(extra_token_df))\n",
    "extra_word_count = np.zeros((len(extra_token_df),2))\n",
    "\n",
    "for i, ele in enumerate(extra_token_df['tokenized']):\n",
    "    extra_word_count[i,0] = len(ele)\n",
    "    domains = join_df['domain'].iloc[i]\n",
    "    extra_word_count[i,1] = id\n",
    "y_aug = np.concatenate((y, extra_y), axis=0)\n",
    "extra_data = np.concatenate((simple_features, extra_word_count), axis=0)\n",
    "\n",
    "# new splits\n",
    "train_data2, test2 = train_test_split(np.arange(len(extra_data)), test_size=0.1,random_state=1)\n",
    "train2, val2 = train_test_split(np.arange(len(train_data2)), test_size=0.2,random_state=1)\n",
    "\n",
    "logreg = LogisticRegression(random_state=0,max_iter=200)\n",
    "logreg.fit(extra_data[train2], y_aug[train2])\n",
    "score_train = f1_score(y_aug[train2], logreg.predict(extra_data[train2]))\n",
    "score_val = f1_score(y_aug[val2], logreg.predict(extra_data[val2]))\n",
    "score_test = f1_score(y_aug[test2], logreg.predict(extra_data[test2]))\n",
    "print(f\"train score: {score_train}\")\n",
    "print(f\"val score: {score_val}\")\n",
    "print(f\"test score: {score_test}\")"
   ]
  },
  {
   "cell_type": "markdown",
   "metadata": {},
   "source": [
    "# Part 3: Advanced model"
   ]
  },
  {
   "cell_type": "markdown",
   "metadata": {},
   "source": [
    "# Using TF-IDF weights as features"
   ]
  },
  {
   "cell_type": "code",
   "execution_count": 15,
   "metadata": {},
   "outputs": [],
   "source": [
    "# initiate the iterables for tf-idf\n",
    "token_train_x_iter_str = tokenized_rows_as_string('token_train_x.csv')\n",
    "token_val_x_iter_str = tokenized_rows_as_string('token_val_x.csv')\n",
    "token_test_x_iter_str = tokenized_rows_as_string('token_test_x.csv')\n",
    "# using TF-IDF weights as features:\n",
    "# 200 and 300 features\n",
    "vectorizer = TfidfVectorizer(max_features=200)  \n",
    "tfidf_200_train = vectorizer.fit_transform(token_train_x_iter_str)\n",
    "tfidf_200_val = vectorizer.transform(token_val_x_iter_str)\n",
    "tfidf_200_test = vectorizer.transform(token_test_x_iter_str)\n",
    "\n",
    "vectorizer_2 = TfidfVectorizer(max_features=300)  \n",
    "tfidf_300_train = vectorizer_2.fit_transform(token_train_x_iter_str)\n",
    "tfidf_300_val = vectorizer_2.transform(token_val_x_iter_str )\n",
    "tfidf_300_test = vectorizer_2.transform(token_test_x_iter_str)"
   ]
  },
  {
   "cell_type": "markdown",
   "metadata": {},
   "source": [
    "# Training the models"
   ]
  },
  {
   "cell_type": "code",
   "execution_count": 16,
   "metadata": {},
   "outputs": [
    {
     "name": "stdout",
     "output_type": "stream",
     "text": [
      "TF-IDF, 200 features - logreg train score: 0.7299593840016272\n",
      "TF-IDF, 200 features - logreg val score: 0.7293715432237284\n",
      "TF-IDF, 300 features - logreg train score: 0.7598355823662895\n",
      "TF-IDF, 300 features - logreg val score: 0.7584961077105019\n",
      "TF-IDF, 200 features - random forest train score: 0.9763726147035\n",
      "TF-IDF, 200 features - random forest val score: 0.8029025272700373\n",
      "TF-IDF, 300 features - random forest train score: 0.9718533302627875\n",
      "TF-IDF, 300 features - random forest val score: 0.8175987771242481\n",
      "TF-IDF, 200 features - MLP train score: 0.8515138008977748\n",
      "TF-IDF, 200 features - MLP val score: 0.8153227562009399\n"
     ]
    },
    {
     "name": "stderr",
     "output_type": "stream",
     "text": [
      "C:\\Users\\sofus\\AppData\\Roaming\\Python\\Python310\\site-packages\\sklearn\\neural_network\\_multilayer_perceptron.py:679: ConvergenceWarning: Stochastic Optimizer: Maximum iterations (150) reached and the optimization hasn't converged yet.\n",
      "  warnings.warn(\n"
     ]
    },
    {
     "name": "stdout",
     "output_type": "stream",
     "text": [
      "TF-IDF, 300 features - MLP train score: 0.8822706622028855\n",
      "TF-IDF, 300 features - MLP val score: 0.8328497028523639\n"
     ]
    }
   ],
   "source": [
    "tfidf_200_logreg = LogisticRegression(random_state=0,max_iter=300)\n",
    "tfidf_200_logreg.fit(tfidf_200_train, y[train])\n",
    "train_preds = tfidf_200_logreg.predict(tfidf_200_train)\n",
    "val_preds = tfidf_200_logreg.predict(tfidf_200_val)\n",
    "score_train = f1_score(y[train], train_preds)\n",
    "score_val = f1_score(y[val], val_preds)\n",
    "print(f\"TF-IDF, 200 features - logreg train score: {score_train}\")\n",
    "print(f\"TF-IDF, 200 features - logreg val score: {score_val}\")\n",
    "\n",
    "tfidf_300_logreg = LogisticRegression(random_state=0,max_iter=300)\n",
    "tfidf_300_logreg.fit(tfidf_300_train, y[train])\n",
    "train_preds = tfidf_300_logreg.predict(tfidf_300_train)\n",
    "val_preds = tfidf_300_logreg.predict(tfidf_300_val)\n",
    "score_train = f1_score(y[train], train_preds)\n",
    "score_val = f1_score(y[val], val_preds)\n",
    "print(f\"TF-IDF, 300 features - logreg train score: {score_train}\")\n",
    "print(f\"TF-IDF, 300 features - logreg val score: {score_val}\")\n",
    "\n",
    "from sklearn.ensemble import RandomForestClassifier\n",
    "tfidf_200_rf = RandomForestClassifier(max_depth=50, random_state=0, n_jobs=-1)\n",
    "tfidf_200_rf.fit(tfidf_200_train, y[train])\n",
    "train_preds = tfidf_200_rf.predict(tfidf_200_train)\n",
    "val_preds = tfidf_200_rf.predict(tfidf_200_val)\n",
    "score_train = f1_score(y[train], train_preds)\n",
    "score_val = f1_score(y[val], val_preds)\n",
    "print(f\"TF-IDF, 200 features - random forest train score: {score_train}\")\n",
    "print(f\"TF-IDF, 200 features - random forest val score: {score_val}\")\n",
    "\n",
    "tfidf_300_rf = RandomForestClassifier(max_depth=50, random_state=0, n_jobs=-1)\n",
    "tfidf_300_rf.fit(tfidf_300_train, y[train])\n",
    "train_preds = tfidf_300_rf.predict(tfidf_300_train)\n",
    "val_preds = tfidf_300_rf.predict(tfidf_300_val)\n",
    "score_train = f1_score(y[train], train_preds)\n",
    "score_val = f1_score(y[val], val_preds)\n",
    "print(f\"TF-IDF, 300 features - random forest train score: {score_train}\")\n",
    "print(f\"TF-IDF, 300 features - random forest val score: {score_val}\")\n",
    "\n",
    "\n",
    "from sklearn.neural_network import MLPClassifier\n",
    "tfidf_200_MLP = MLPClassifier(random_state=1, max_iter=150)\n",
    "tfidf_200_MLP.fit(tfidf_200_train , y[train])\n",
    "train_preds = tfidf_200_MLP.predict(tfidf_200_train)\n",
    "val_preds = tfidf_200_MLP.predict(tfidf_200_val)\n",
    "score_train = f1_score(y[train], train_preds)\n",
    "score_val = f1_score(y[val],val_preds)\n",
    "print(f\"TF-IDF, 200 features - MLP train score: {score_train}\")\n",
    "print(f\"TF-IDF, 200 features - MLP val score: {score_val}\")\n",
    "\n",
    "tfidf_300_MLP = MLPClassifier(random_state=1, max_iter=150)\n",
    "tfidf_300_MLP.fit(tfidf_300_train , y[train])\n",
    "train_preds = tfidf_300_MLP.predict(tfidf_300_train)\n",
    "val_preds = tfidf_300_MLP.predict(tfidf_300_val)\n",
    "score_train = f1_score(y[train], train_preds)\n",
    "score_val = f1_score(y[val],val_preds)\n",
    "print(f\"TF-IDF, 300 features - MLP train score: {score_train}\")\n",
    "print(f\"TF-IDF, 300 features - MLP val score: {score_val}\")"
   ]
  },
  {
   "cell_type": "markdown",
   "metadata": {},
   "source": [
    "# Using word2vec as features"
   ]
  },
  {
   "cell_type": "code",
   "execution_count": 17,
   "metadata": {},
   "outputs": [],
   "source": [
    "# initiate the iterables for gensim word2vec\n",
    "token_train_x_iter_str = tokenized_rows_as_string('token_train_x.csv')\n",
    "token_val_x_iter_str = tokenized_rows_as_string('token_val_x.csv')\n",
    "token_test_x_iter_str = tokenized_rows_as_string('token_test_x.csv')\n",
    "\n",
    "# using word2vec embeddings as features:\n",
    "# 200 and 300 features\n",
    "token_train_x_iter_arr = tokenized_rows_as_array('token_train_x.csv')\n",
    "token_val_x_iter_arr = tokenized_rows_as_array('token_val_x.csv')\n",
    "token_test_x_iter_arr = tokenized_rows_as_array('token_test_x.csv')\n",
    "\n",
    "w2v_model_200 = Word2Vec(vector_size=200, window=5, workers=7)\n",
    "w2v_model_200.build_vocab(token_train_x_iter_arr)\n",
    "w2v_model_200.train(token_train_x_iter_arr, total_examples=w2v_model_200.corpus_count, epochs=5)\n",
    "\n",
    "w2v_model_300 = Word2Vec(vector_size=300, window=5, workers=7)\n",
    "w2v_model_300.build_vocab(token_train_x_iter_arr)\n",
    "w2v_model_300.train(token_train_x_iter_arr, total_examples=w2v_model_300.corpus_count, epochs=5)\n",
    "\n",
    "# 200 dimensions\n",
    "w2v_200_train = np.array([w2v_model_200.wv.get_mean_vector(row) if row\\\n",
    "                       else np.zeros(200) for row in token_train_x_iter_arr])\n",
    "w2v_200_val = np.array([w2v_model_200.wv.get_mean_vector(row) if row\\\n",
    "                       else np.zeros(200) for row in token_val_x_iter_arr])\n",
    "w2v_200_test = np.array([w2v_model_200.wv.get_mean_vector(row) if row\\\n",
    "                       else np.zeros(200) for row in token_test_x_iter_arr])\n",
    "# 300 dimensions\n",
    "w2v_300_train = np.array([w2v_model_300.wv.get_mean_vector(row) if row\\\n",
    "                       else np.zeros(300) for row in token_train_x_iter_arr])\n",
    "w2v_300_val = np.array([w2v_model_300.wv.get_mean_vector(row) if row\\\n",
    "                       else np.zeros(300) for row in token_val_x_iter_arr])\n",
    "w2v_300_test = np.array([w2v_model_300.wv.get_mean_vector(row) if row\\\n",
    "                       else np.zeros(300) for row in token_test_x_iter_arr])"
   ]
  },
  {
   "cell_type": "markdown",
   "metadata": {},
   "source": [
    "# Training the models"
   ]
  },
  {
   "cell_type": "code",
   "execution_count": 18,
   "metadata": {},
   "outputs": [],
   "source": [
    "def batch_predict(classifier, X, batch_size=10000):\n",
    "    predictions = []\n",
    "    for start in range(0, X.shape[0], batch_size):\n",
    "        end = min(start + batch_size, X.shape[0])\n",
    "        predictions.append(classifier.predict(X[start:end]))\n",
    "    return np.concatenate(predictions)"
   ]
  },
  {
   "cell_type": "code",
   "execution_count": 19,
   "metadata": {},
   "outputs": [
    {
     "name": "stdout",
     "output_type": "stream",
     "text": [
      "w2v, 200 features - logreg train score: 0.8001539844245996\n",
      "w2v, 200 features - logreg val score: 0.7982213241530709\n",
      "w2v, 300 features - logreg train score: 0.8082475826853533\n",
      "w2v, 300 features - logreg val score: 0.8062769752763017\n",
      "w2v, 200 features - random forest train score: 0.9999937589714785\n",
      "w2v, 200 features - random forest val score: 0.8240791087619025\n",
      "w2v, 300 features - random forest train score: 0.9999921987265201\n",
      "w2v, 300 features - random forest val score: 0.8250390919277544\n"
     ]
    },
    {
     "name": "stderr",
     "output_type": "stream",
     "text": [
      "C:\\Users\\sofus\\AppData\\Roaming\\Python\\Python310\\site-packages\\sklearn\\neural_network\\_multilayer_perceptron.py:679: ConvergenceWarning: Stochastic Optimizer: Maximum iterations (150) reached and the optimization hasn't converged yet.\n",
      "  warnings.warn(\n"
     ]
    },
    {
     "name": "stdout",
     "output_type": "stream",
     "text": [
      "w2v, 200 features - MLP train score: 0.8680268661312257\n",
      "w2v, 200 features - MLP val score: 0.850921186648273\n"
     ]
    },
    {
     "name": "stderr",
     "output_type": "stream",
     "text": [
      "C:\\Users\\sofus\\AppData\\Roaming\\Python\\Python310\\site-packages\\sklearn\\neural_network\\_multilayer_perceptron.py:679: ConvergenceWarning: Stochastic Optimizer: Maximum iterations (150) reached and the optimization hasn't converged yet.\n",
      "  warnings.warn(\n"
     ]
    },
    {
     "name": "stdout",
     "output_type": "stream",
     "text": [
      "w2v, 300 features - MLP train score: 0.8869967590816693\n",
      "w2v, 300 features - MLP val score: 0.8633491742684948\n"
     ]
    }
   ],
   "source": [
    "w2v_200_logreg = LogisticRegression(random_state=0,max_iter=300)\n",
    "w2v_200_logreg.fit(w2v_200_train, y[train])\n",
    "train_preds = batch_predict(w2v_200_logreg, w2v_200_train)\n",
    "val_preds = batch_predict(w2v_200_logreg, w2v_200_val)\n",
    "score_train = f1_score(y[train], train_preds)\n",
    "score_val = f1_score(y[val], val_preds)\n",
    "print(f\"w2v, 200 features - logreg train score: {score_train}\")\n",
    "print(f\"w2v, 200 features - logreg val score: {score_val}\")\n",
    "\n",
    "w2v_300_logreg = LogisticRegression(random_state=0,max_iter=300)\n",
    "w2v_300_logreg.fit(w2v_300_train, y[train])\n",
    "train_preds = batch_predict(w2v_300_logreg, w2v_300_train)\n",
    "val_preds = batch_predict(w2v_300_logreg, w2v_300_val)\n",
    "score_train = f1_score(y[train], train_preds)\n",
    "score_val = f1_score(y[val], val_preds)\n",
    "print(f\"w2v, 300 features - logreg train score: {score_train}\")\n",
    "print(f\"w2v, 300 features - logreg val score: {score_val}\")\n",
    "\n",
    "from sklearn.ensemble import RandomForestClassifier\n",
    "w2v_200_rf = RandomForestClassifier(max_depth=50, random_state=0)\n",
    "w2v_200_rf.fit(w2v_200_train, y[train])\n",
    "train_preds = batch_predict(w2v_200_rf, w2v_200_train)\n",
    "val_preds = batch_predict(w2v_200_rf, w2v_200_val)\n",
    "score_train = f1_score(y[train], train_preds)\n",
    "score_val = f1_score(y[val], val_preds)\n",
    "print(f\"w2v, 200 features - random forest train score: {score_train}\")\n",
    "print(f\"w2v, 200 features - random forest val score: {score_val}\")\n",
    "\n",
    "w2v_300_rf = RandomForestClassifier(max_depth=50, random_state=0)\n",
    "w2v_300_rf.fit(w2v_300_train, y[train])\n",
    "train_preds = batch_predict(w2v_300_rf, w2v_300_train)\n",
    "val_preds = batch_predict(w2v_300_rf, w2v_300_val)\n",
    "score_train = f1_score(y[train], train_preds)\n",
    "score_val = f1_score(y[val], val_preds)\n",
    "print(f\"w2v, 300 features - random forest train score: {score_train}\")\n",
    "print(f\"w2v, 300 features - random forest val score: {score_val}\")\n",
    "\n",
    "from sklearn.neural_network import MLPClassifier\n",
    "w2v_200_MLP = MLPClassifier(random_state=1, max_iter=150)\n",
    "w2v_200_MLP.fit(w2v_200_train , y[train])\n",
    "train_preds = batch_predict(w2v_200_MLP, w2v_200_train)\n",
    "val_preds = batch_predict(w2v_200_MLP, w2v_200_val)\n",
    "score_train = f1_score(y[train], train_preds)\n",
    "score_val = f1_score(y[val],val_preds)\n",
    "print(f\"w2v, 200 features - MLP train score: {score_train}\")\n",
    "print(f\"w2v, 200 features - MLP val score: {score_val}\")\n",
    "\n",
    "w2v_300_MLP = MLPClassifier(random_state=1, max_iter=150)\n",
    "w2v_300_MLP.fit(w2v_300_train , y[train])\n",
    "train_preds = batch_predict(w2v_300_MLP, w2v_300_train)\n",
    "val_preds = batch_predict(w2v_300_MLP, w2v_300_val)\n",
    "score_train = f1_score(y[train], train_preds)\n",
    "score_val = f1_score(y[val],val_preds)\n",
    "print(f\"w2v, 300 features - MLP train score: {score_train}\")\n",
    "print(f\"w2v, 300 features - MLP val score: {score_val}\")"
   ]
  },
  {
   "cell_type": "markdown",
   "metadata": {},
   "source": [
    "# Part 4 :"
   ]
  },
  {
   "cell_type": "markdown",
   "metadata": {},
   "source": [
    "# Simple and advanced model evaluation on FakeCorpus test set"
   ]
  },
  {
   "cell_type": "code",
   "execution_count": 20,
   "metadata": {},
   "outputs": [
    {
     "name": "stdout",
     "output_type": "stream",
     "text": [
      "Simple model test score: 0.6548577722868073\n"
     ]
    },
    {
     "data": {
      "image/png": "[encoded data removed]",
      "text/plain": [
       "<Figure size 640x480 with 2 Axes>"
      ]
     },
     "metadata": {},
     "output_type": "display_data"
    }
   ],
   "source": [
    "# simple model\n",
    "test_preds_simple = logreg_nometa.predict(simple_features[test,0].reshape(-1, 1))\n",
    "score_test_simple = f1_score(y[test], test_preds_simple)\n",
    "print(f\"Simple model test score: {score_test_simple}\")\n",
    "\n",
    "cm = ConfusionMatrixDisplay.from_estimator(logreg_nometa, simple_features[test,0].reshape(-1, 1), \\\n",
    "                                           y[test],display_labels=['fake','reliable'])\n",
    "cm\n",
    "cm.figure_.savefig('cm_simple_corpus.png')"
   ]
  },
  {
   "cell_type": "code",
   "execution_count": 21,
   "metadata": {},
   "outputs": [
    {
     "name": "stdout",
     "output_type": "stream",
     "text": [
      "Advanced model test score: 0.8761222404149406\n"
     ]
    },
    {
     "data": {
      "image/png": "[encoded data removed]",
      "text/plain": [
       "<Figure size 640x480 with 2 Axes>"
      ]
     },
     "metadata": {},
     "output_type": "display_data"
    }
   ],
   "source": [
    "# advanced model - MLPclassifier\n",
    "# word2vec embedding, 300 dimensions\n",
    "test_preds_adv = w2v_300_MLP.predict(w2v_300_test)\n",
    "score_test_adv = f1_score(y[test],test_preds_adv)\n",
    "print(f\"Advanced model test score: {score_test_adv}\")\n",
    "\n",
    "#test_preds_adv = w2v_300_rf.predict(w2v_300_test)\n",
    "#score_test_adv = f1_score(y[test],test_preds_adv)\n",
    "#print(f\"random forest test score: {score_test_adv}\")\n",
    "\n",
    "cm = ConfusionMatrixDisplay.from_estimator(w2v_300_MLP, w2v_300_test, y[test],display_labels=['fake','reliable'])\n",
    "cm\n",
    "cm.figure_.savefig('cm_adv_corpus.png')"
   ]
  },
  {
   "cell_type": "code",
   "execution_count": 22,
   "metadata": {},
   "outputs": [
    {
     "name": "stdout",
     "output_type": "stream",
     "text": [
      "distribution of classes (array([0., 1.]), array([761, 506], dtype=int64))\n"
     ]
    }
   ],
   "source": [
    "def create_liar_labels(types):\n",
    "    labels_arr = np.empty(len(types))\n",
    "    for i, type in enumerate(types):\n",
    "        label = 0\n",
    "        if type in ['mostly-true', 'half-true']:\n",
    "            label = 1\n",
    "        labels_arr[i] = label\n",
    "    return labels_arr\n",
    "\n",
    "liar_test = pd.read_csv(\"test.tsv\", sep = '\\t',names=['id','label','statement','subject','speaker','speaker_job','state','party','barely_true',\\\n",
    "                                                       'false','half-true','mostly-true','lie','context'])\n",
    "liar_test_y = create_liar_labels(liar_test['label'])\n",
    "print(\"distribution of classes\", np.unique(liar_test_y, return_counts=True))"
   ]
  },
  {
   "cell_type": "markdown",
   "metadata": {},
   "source": [
    "# Simple and advanced model evaluation on Liar test set"
   ]
  },
  {
   "cell_type": "code",
   "execution_count": 23,
   "metadata": {},
   "outputs": [
    {
     "name": "stdout",
     "output_type": "stream",
     "text": [
      "Simple model test score on LIAR dataset: 0.5707839819514946\n"
     ]
    },
    {
     "data": {
      "image/png": "[encoded data removed]",
      "text/plain": [
       "<Figure size 640x480 with 2 Axes>"
      ]
     },
     "metadata": {},
     "output_type": "display_data"
    }
   ],
   "source": [
    "test_len = np.zeros(len(liar_test['statement']))\n",
    "for i in range(len(liar_test['statement'])):\n",
    "    content = liar_test['statement'].iloc[i]\n",
    "    content_token = tokenize_content(content, stop_words, stemmer)\n",
    "    test_len[i] = len(content_token)\n",
    "test_preds_simple_liar = logreg_nometa.predict(test_len.reshape(-1,1))\n",
    "score_test_simple_liar  = f1_score(liar_test_y, test_preds_simple_liar)\n",
    "print(f\"Simple model test score on LIAR dataset: {score_test_simple_liar}\")\n",
    "\n",
    "cm = confusion_matrix(liar_test_y, test_preds_simple_liar, labels=[0, 1])\n",
    "cm = ConfusionMatrixDisplay.from_estimator(logreg_nometa, test_len.reshape(-1,1),\\\n",
    "                                           liar_test_y,display_labels=['fake','reliable'])\n",
    "cm\n",
    "cm.figure_.savefig('cm_simple_liar.png')"
   ]
  },
  {
   "cell_type": "code",
   "execution_count": 24,
   "metadata": {},
   "outputs": [
    {
     "name": "stdout",
     "output_type": "stream",
     "text": [
      "Advanced model test score on LIAR dataset: 0.0\n"
     ]
    },
    {
     "data": {
      "image/png": "[encoded data removed]",
      "text/plain": [
       "<Figure size 640x480 with 2 Axes>"
      ]
     },
     "metadata": {},
     "output_type": "display_data"
    }
   ],
   "source": [
    "liar_300_test = np.array([w2v_model_300.wv.get_mean_vector(row) if row\\\n",
    "                          else np.zeros(300) for row in liar_test['statement']])\n",
    "test_preds_adv_liar = w2v_300_MLP.predict(liar_300_test)\n",
    "score_test_adv_liar = f1_score(liar_test_y, test_preds_adv_liar)\n",
    "print(f\"Advanced model test score on LIAR dataset: {score_test_adv_liar}\")\n",
    "\n",
    "cm = confusion_matrix(liar_test_y, test_preds_simple_liar, labels=[0, 1])\n",
    "cm = ConfusionMatrixDisplay.from_estimator(w2v_300_MLP, liar_300_test ,\\\n",
    "                                           liar_test_y,display_labels=['fake','reliable'])\n",
    "cm\n",
    "cm.figure_.savefig('cm_adv_liar.png')"
   ]
  },
  {
   "cell_type": "markdown",
   "metadata": {},
   "source": [
    "# Part 5"
   ]
  },
  {
   "cell_type": "code",
   "execution_count": 25,
   "metadata": {},
   "outputs": [
    {
     "data": {
      "text/plain": [
       "Text(-70, 10, '10')"
      ]
     },
     "execution_count": 25,
     "metadata": {},
     "output_type": "execute_result"
    },
    {
     "data": {
      "image/png": "[encoded data removed]",
      "text/plain": [
       "<Figure size 640x480 with 1 Axes>"
      ]
     },
     "metadata": {},
     "output_type": "display_data"
    }
   ],
   "source": [
    "plt.plot(test_len, '.')\n",
    "plt.axhline(y=10, color='orange', linestyle='-', label='median')\n",
    "plt.ylabel('Length of tokenized content')\n",
    "plt.xlabel('Row');\n",
    "plt.title('LIAR test content length')\n",
    "plt.legend()\n",
    "plt.text(-70,10, \"{:.0f}\".format(10), color=\"black\",  ha=\"right\", va=\"center\")\n"
   ]
  },
  {
   "cell_type": "code",
   "execution_count": 26,
   "metadata": {},
   "outputs": [
    {
     "name": "stdout",
     "output_type": "stream",
     "text": [
      "average length of content with reliable label 11.774703557312254\n",
      "average length of content with fake label 10.724047306176084\n"
     ]
    }
   ],
   "source": [
    "fake_idx = np.argsort(liar_test_y)[0:761]\n",
    "real_idx = np.argsort(liar_test_y)[761::]\n",
    "print(\"average length of content with reliable label\", np.mean(test_len[real_idx]))\n",
    "print(\"average length of content with fake label\", np.mean(test_len[fake_idx]))"
   ]
  },
  {
   "cell_type": "code",
   "execution_count": null,
   "metadata": {},
   "outputs": [],
   "source": []
  }
 ],
 "metadata": {
  "kernelspec": {
   "display_name": "Python 3 (ipykernel)",
   "language": "python",
   "name": "python3"
  },
  "language_info": {
   "codemirror_mode": {
    "name": "ipython",
    "version": 3
   },
   "file_extension": ".py",
   "mimetype": "text/x-python",
   "name": "python",
   "nbconvert_exporter": "python",
   "pygments_lexer": "ipython3",
   "version": "3.10.4"
  }
 },
 "nbformat": 4,
 "nbformat_minor": 4
}
